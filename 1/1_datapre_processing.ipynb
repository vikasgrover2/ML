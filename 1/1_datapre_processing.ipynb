{
  "nbformat": 4,
  "nbformat_minor": 5,
  "metadata": {
    "colab": {
      "provenance": [],
      "authorship_tag": "ABX9TyND+BrTS/Wo5ymUG+Eb5ruq",
      "include_colab_link": true
    },
    "kernelspec": {
      "display_name": "Python 3.9",
      "language": "python",
      "name": "python3"
    },
    "language_info": {
      "name": "python"
    },
    "noteable": {
      "last_transaction_id": "e0387d81-5265-4692-a13f-dc105ec55a36"
    },
    "kernel_info": {
      "name": "python3"
    },
    "selected_hardware_size": "small",
    "display_mode": "fullwidth"
  },
  "cells": [
    {
      "cell_type": "markdown",
      "metadata": {
        "id": "view-in-github",
        "colab_type": "text",
        "tags": [
          "show_line_numbers"
        ]
      },
      "source": [
        "<a href=\"https://colab.research.google.com/github/vikasgrover2/ML/blob/main/1/1_datapre_processing.ipynb\" target=\"_parent\"><img src=\"https://colab.research.google.com/assets/colab-badge.svg\" alt=\"Open In Colab\"/></a>"
      ],
      "id": "21dea670"
    },
    {
      "id": "3e32c7ed-0d2a-48f9-9641-d2822436a22f",
      "cell_type": "markdown",
      "source": "kaggle datasets download -d bharath011/heart-disease-classification-dataset\nDataset download from Kaggle\nKey columns are:\n- Age, \n- gender(assuming 1 is male and 0 female), \n- heart rate (impulse), \n- systolic BP (pressurehight), \n- diastolic BP (pressurelow), \n- blood sugar(glucose), \n- CK-MB (kcm), \n- Test-Troponin (troponin), \n- heart attack (class), \n    - negative refers to the absence of a heart attack, \n    - positive refers to the presence of a heart attack.",
      "metadata": {
        "noteable": {
          "cell_type": "markdown"
        }
      }
    },
    {
      "cell_type": "markdown",
      "source": [
        "# importing libraries"
      ],
      "metadata": {
        "id": "6r83QfUYI5nd",
        "tags": [
          "show_line_numbers"
        ]
      },
      "id": "15c04bae"
    },
    {
      "cell_type": "code",
      "execution_count": null,
      "metadata": {
        "id": "kBS43FTnm23R",
        "noteable": {
          "output_collection_id": "327a31d3-6f9e-4d40-981e-a1f8535dc6af"
        },
        "ExecuteTime": {
          "end_time": "2023-07-30T20:53:18.602183+00:00",
          "start_time": "2023-07-30T20:53:18.445497+00:00"
        },
        "tags": [
          "show_line_numbers"
        ]
      },
      "outputs": [],
      "source": "import numpy as np\nimport seaborn as sb\nimport pandas as pd\nfrom sklearn.impute import SimpleImputer as si\n",
      "id": "30b01059"
    },
    {
      "cell_type": "markdown",
      "source": [
        "# importing data"
      ],
      "metadata": {
        "id": "9VjUn-bMJA50",
        "tags": [
          "show_line_numbers"
        ]
      },
      "id": "46e638cd"
    },
    {
      "cell_type": "code",
      "source": "ha_ds =pd.read_csv(\"../datasets/Heart Attack.csv\")\n#print(ha_ds.head(10))\nx = ha_ds.iloc[:,:-1]\ny = ha_ds.iloc[:,-1].values\nx\nimputer = si(missing_values = np.nan, strategy='mean')\nimputer.fit(x[:,1:2])",
      "metadata": {
        "id": "mXXaw31tJV3h",
        "tags": [
          "show_line_numbers"
        ],
        "noteable": {
          "output_collection_id": "d8df4c7f-13f9-4032-b3cf-980934f43ac1"
        },
        "ExecuteTime": {
          "end_time": "2023-07-30T20:55:43.752833+00:00",
          "start_time": "2023-07-30T20:55:43.505027+00:00"
        },
        "jupyter": {
          "outputs_hidden": false
        },
        "datalink": {
          "aa9bf6ce-c469-4c04-a27d-007c957a0824": {
            "applied_filters": [],
            "dataframe_info": {
              "default_index_used": true,
              "orig_num_cols": 8,
              "orig_num_rows": 1319,
              "orig_size_bytes": 94968,
              "truncated_num_cols": 8,
              "truncated_num_rows": 1319,
              "truncated_size_bytes": 94968,
              "truncated_string_columns": []
            },
            "display_id": "aa9bf6ce-c469-4c04-a27d-007c957a0824",
            "dx_settings": {
              "ALLOW_NOTEABLE_ATTRS": true,
              "COLUMN_SAMPLING_METHOD": "outer",
              "DB_LOCATION": ":memory:",
              "DEV_MODE": false,
              "DISPLAY_MAX_COLUMNS": 100,
              "DISPLAY_MAX_ROWS": 50000,
              "DISPLAY_MODE": "simple",
              "ENABLE_ASSIGNMENT": true,
              "ENABLE_DATALINK": true,
              "FLATTEN_COLUMN_VALUES": true,
              "FLATTEN_INDEX_VALUES": false,
              "GENERATE_DEX_METADATA": false,
              "HTML_TABLE_SCHEMA": false,
              "LOG_LEVEL": 30,
              "MAX_RENDER_SIZE_BYTES": 104857600,
              "MAX_STRING_LENGTH": 250,
              "NUM_PAST_SAMPLES_TRACKED": 3,
              "RANDOM_STATE": 12648430,
              "RESET_INDEX_VALUES": false,
              "ROW_SAMPLING_METHOD": "random",
              "SAMPLING_FACTOR": 0.1,
              "SAMPLING_METHOD": "random",
              "STRINGIFY_COLUMN_VALUES": true,
              "STRINGIFY_INDEX_VALUES": false
            },
            "sample_history": [],
            "sampling_time": "2023-07-30T20:38:17.605835",
            "user_variable_name": "x",
            "variable_name": "x"
          },
          "b3897165-8a73-4a59-93f8-ab591f6bbc25": {
            "applied_filters": [],
            "dataframe_info": {
              "default_index_used": true,
              "orig_num_cols": 8,
              "orig_num_rows": 1319,
              "orig_size_bytes": 94968,
              "truncated_num_cols": 8,
              "truncated_num_rows": 1319,
              "truncated_size_bytes": 94968,
              "truncated_string_columns": []
            },
            "display_id": "b3897165-8a73-4a59-93f8-ab591f6bbc25",
            "dx_settings": {
              "ALLOW_NOTEABLE_ATTRS": true,
              "COLUMN_SAMPLING_METHOD": "outer",
              "DB_LOCATION": ":memory:",
              "DEV_MODE": false,
              "DISPLAY_MAX_COLUMNS": 100,
              "DISPLAY_MAX_ROWS": 50000,
              "DISPLAY_MODE": "simple",
              "ENABLE_ASSIGNMENT": true,
              "ENABLE_DATALINK": true,
              "FLATTEN_COLUMN_VALUES": true,
              "FLATTEN_INDEX_VALUES": false,
              "GENERATE_DEX_METADATA": false,
              "HTML_TABLE_SCHEMA": false,
              "LOG_LEVEL": 30,
              "MAX_RENDER_SIZE_BYTES": 104857600,
              "MAX_STRING_LENGTH": 250,
              "NUM_PAST_SAMPLES_TRACKED": 3,
              "RANDOM_STATE": 12648430,
              "RESET_INDEX_VALUES": false,
              "ROW_SAMPLING_METHOD": "random",
              "SAMPLING_FACTOR": 0.1,
              "SAMPLING_METHOD": "random",
              "STRINGIFY_COLUMN_VALUES": true,
              "STRINGIFY_INDEX_VALUES": false
            },
            "sample_history": [],
            "sampling_time": "2023-07-30T20:46:10.545897",
            "user_variable_name": "x",
            "variable_name": "x"
          },
          "4b71af13-0d1f-45f7-88ad-e3dbc0782766": {
            "applied_filters": [],
            "dataframe_info": {
              "default_index_used": true,
              "orig_num_cols": 8,
              "orig_num_rows": 1319,
              "orig_size_bytes": 94968,
              "truncated_num_cols": 8,
              "truncated_num_rows": 1319,
              "truncated_size_bytes": 94968,
              "truncated_string_columns": []
            },
            "display_id": "4b71af13-0d1f-45f7-88ad-e3dbc0782766",
            "dx_settings": {
              "ALLOW_NOTEABLE_ATTRS": true,
              "COLUMN_SAMPLING_METHOD": "outer",
              "DB_LOCATION": ":memory:",
              "DEV_MODE": false,
              "DISPLAY_MAX_COLUMNS": 100,
              "DISPLAY_MAX_ROWS": 50000,
              "DISPLAY_MODE": "simple",
              "ENABLE_ASSIGNMENT": true,
              "ENABLE_DATALINK": true,
              "FLATTEN_COLUMN_VALUES": true,
              "FLATTEN_INDEX_VALUES": false,
              "GENERATE_DEX_METADATA": false,
              "HTML_TABLE_SCHEMA": false,
              "LOG_LEVEL": 30,
              "MAX_RENDER_SIZE_BYTES": 104857600,
              "MAX_STRING_LENGTH": 250,
              "NUM_PAST_SAMPLES_TRACKED": 3,
              "RANDOM_STATE": 12648430,
              "RESET_INDEX_VALUES": false,
              "ROW_SAMPLING_METHOD": "random",
              "SAMPLING_FACTOR": 0.1,
              "SAMPLING_METHOD": "random",
              "STRINGIFY_COLUMN_VALUES": true,
              "STRINGIFY_INDEX_VALUES": false
            },
            "sample_history": [],
            "sampling_time": "2023-07-30T20:55:43.585339",
            "user_variable_name": "x",
            "variable_name": "x"
          }
        },
        "dx": {
          "fieldMetadata": {},
          "simpleTable": true,
          "updated": 1690750033940,
          "views": []
        }
      },
      "execution_count": null,
      "outputs": [],
      "id": "5b4e36c3"
    },
    {
      "cell_type": "markdown",
      "source": [
        "# Pre processing data"
      ],
      "metadata": {
        "id": "0MD1QvPBJpQO",
        "tags": [
          "show_line_numbers"
        ]
      },
      "id": "7226b0dd"
    },
    {
      "cell_type": "code",
      "source": [],
      "metadata": {
        "id": "xt2OkimuJt4N",
        "tags": [
          "show_line_numbers"
        ]
      },
      "execution_count": null,
      "outputs": [],
      "id": "8ab69597"
    },
    {
      "cell_type": "markdown",
      "source": [
        "# Training data"
      ],
      "metadata": {
        "id": "KvdO_ojdJOco",
        "tags": [
          "show_line_numbers"
        ]
      },
      "id": "6740e317"
    },
    {
      "cell_type": "code",
      "source": [],
      "metadata": {
        "id": "-2iR3sarJavt",
        "tags": [
          "show_line_numbers"
        ]
      },
      "execution_count": null,
      "outputs": [],
      "id": "a43c306d"
    },
    {
      "cell_type": "markdown",
      "source": [
        "# Test data"
      ],
      "metadata": {
        "id": "L_h-2uW_JZrM",
        "tags": [
          "show_line_numbers"
        ]
      },
      "id": "954809da"
    },
    {
      "cell_type": "code",
      "source": [],
      "metadata": {
        "id": "hHA7wm8_Jh7a",
        "tags": [
          "show_line_numbers"
        ]
      },
      "execution_count": null,
      "outputs": [],
      "id": "54ac8a48"
    }
  ]
}