{
  "nbformat": 4,
  "nbformat_minor": 0,
  "metadata": {
    "colab": {
      "provenance": [],
      "toc_visible": true,
      "authorship_tag": "ABX9TyPMZ3bOYNPybl7qBXs+XnR3",
      "include_colab_link": true
    },
    "kernelspec": {
      "name": "python3",
      "display_name": "Python 3"
    },
    "language_info": {
      "name": "python"
    }
  },
  "cells": [
    {
      "cell_type": "markdown",
      "metadata": {
        "id": "view-in-github",
        "colab_type": "text"
      },
      "source": [
        "<a href=\"https://colab.research.google.com/github/vikasgrover2/ML/blob/main/1/1_datapre_processing.ipynb\" target=\"_parent\"><img src=\"https://colab.research.google.com/assets/colab-badge.svg\" alt=\"Open In Colab\"/></a>"
      ]
    },
    {
      "cell_type": "markdown",
      "source": [
        "# importing libraries"
      ],
      "metadata": {
        "id": "6r83QfUYI5nd"
      }
    },
    {
      "cell_type": "code",
      "execution_count": null,
      "metadata": {
        "id": "kBS43FTnm23R"
      },
      "outputs": [],
      "source": []
    },
    {
      "cell_type": "markdown",
      "source": [
        "# importing data"
      ],
      "metadata": {
        "id": "9VjUn-bMJA50"
      }
    },
    {
      "cell_type": "code",
      "source": [],
      "metadata": {
        "id": "mXXaw31tJV3h"
      },
      "execution_count": null,
      "outputs": []
    },
    {
      "cell_type": "markdown",
      "source": [
        "# Pre processing data"
      ],
      "metadata": {
        "id": "0MD1QvPBJpQO"
      }
    },
    {
      "cell_type": "code",
      "source": [],
      "metadata": {
        "id": "xt2OkimuJt4N"
      },
      "execution_count": null,
      "outputs": []
    },
    {
      "cell_type": "markdown",
      "source": [
        "# Training data"
      ],
      "metadata": {
        "id": "KvdO_ojdJOco"
      }
    },
    {
      "cell_type": "code",
      "source": [],
      "metadata": {
        "id": "-2iR3sarJavt"
      },
      "execution_count": null,
      "outputs": []
    },
    {
      "cell_type": "markdown",
      "source": [
        "# Test data"
      ],
      "metadata": {
        "id": "L_h-2uW_JZrM"
      }
    },
    {
      "cell_type": "code",
      "source": [],
      "metadata": {
        "id": "hHA7wm8_Jh7a"
      },
      "execution_count": null,
      "outputs": []
    }
  ]
}