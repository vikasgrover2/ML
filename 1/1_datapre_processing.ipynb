{
  "nbformat": 4,
  "nbformat_minor": 5,
  "metadata": {
    "colab": {
      "provenance": [],
      "authorship_tag": "ABX9TyND+BrTS/Wo5ymUG+Eb5ruq",
      "include_colab_link": true
    },
    "kernelspec": {
      "display_name": "Python 3.9",
      "language": "python",
      "name": "python3"
    },
    "language_info": {
      "name": "python"
    },
    "noteable": {
      "last_transaction_id": "137c2dd4-ce50-42b7-8683-729ac13a8006"
    },
    "kernel_info": {
      "name": "python3"
    },
    "selected_hardware_size": "small",
    "display_mode": "fullwidth"
  },
  "cells": [
    {
      "cell_type": "markdown",
      "metadata": {
        "id": "view-in-github",
        "colab_type": "text",
        "tags": [
          "show_line_numbers"
        ]
      },
      "source": [
        "<a href=\"https://colab.research.google.com/github/vikasgrover2/ML/blob/main/1/1_datapre_processing.ipynb\" target=\"_parent\"><img src=\"https://colab.research.google.com/assets/colab-badge.svg\" alt=\"Open In Colab\"/></a>"
      ],
      "id": "21dea670"
    },
    {
      "id": "3e32c7ed-0d2a-48f9-9641-d2822436a22f",
      "cell_type": "markdown",
      "source": "kaggle datasets download -d bharath011/heart-disease-classification-dataset\nDataset download from Kaggle\nKey columns are:\n- Age, \n- gender(assuming 1 is male and 0 female), \n- heart rate (impulse), \n- systolic BP (pressurehight), \n- diastolic BP (pressurelow), \n- blood sugar(glucose), \n- CK-MB (kcm), \n- Test-Troponin (troponin), \n- heart attack (class), \n    - negative refers to the absence of a heart attack, \n    - positive refers to the presence of a heart attack.",
      "metadata": {
        "noteable": {
          "cell_type": "markdown"
        }
      }
    },
    {
      "cell_type": "markdown",
      "source": [
        "# importing libraries"
      ],
      "metadata": {
        "id": "6r83QfUYI5nd",
        "tags": [
          "show_line_numbers"
        ]
      },
      "id": "15c04bae"
    },
    {
      "cell_type": "code",
      "execution_count": null,
      "metadata": {
        "id": "kBS43FTnm23R",
        "noteable": {
          "output_collection_id": "12a46bea-e657-478a-b57c-019ba76e1761"
        },
        "ExecuteTime": {
          "end_time": "2023-07-30T23:02:50.280219+00:00",
          "start_time": "2023-07-30T23:02:50.123047+00:00"
        },
        "tags": [
          "show_line_numbers"
        ]
      },
      "outputs": [],
      "source": "import numpy as np\nimport seaborn as sb\nimport pandas as pd\nfrom sklearn.impute import SimpleImputer as si\nfrom sklearn import preprocessing as pp\nfrom sklearn import model_selection as ms",
      "id": "30b01059"
    },
    {
      "cell_type": "markdown",
      "source": [
        "# importing data"
      ],
      "metadata": {
        "id": "9VjUn-bMJA50",
        "tags": [
          "show_line_numbers"
        ]
      },
      "id": "46e638cd"
    },
    {
      "cell_type": "code",
      "source": "#float_formatter = \"{:.1f}\".format\n#pd.options.display.float_format = float_formatter\n#np.set_printoptions(precision=2, floatmode='maxprec')\n#np.set_printoptions(formatter={'float_kind':float_formatter})\n\nha_ds =pd.read_csv(\"../datasets/Heart Attack.csv\", dtype= {'gender':'str'})\nprint(ha_ds.head(10))\nha_ds.rename(columns= {'pressurehight':'pressurehigh'}, inplace= True)\nprint(dt)\n\nx = ha_ds.iloc[:,:-1].values.astype(dt)\ny = ha_ds.iloc[:,-1].values\nprint(x)\nprint(y)",
      "metadata": {
        "id": "mXXaw31tJV3h",
        "tags": [
          "show_line_numbers"
        ],
        "noteable": {
          "output_collection_id": "1a649617-df34-4201-85b0-f61d18834678"
        },
        "ExecuteTime": {
          "end_time": "2023-07-30T23:40:50.182364+00:00",
          "start_time": "2023-07-30T23:40:50.013135+00:00"
        },
        "jupyter": {
          "outputs_hidden": false
        },
        "datalink": {
          "aa9bf6ce-c469-4c04-a27d-007c957a0824": {
            "applied_filters": [],
            "dataframe_info": {
              "default_index_used": true,
              "orig_num_cols": 8,
              "orig_num_rows": 1319,
              "orig_size_bytes": 94968,
              "truncated_num_cols": 8,
              "truncated_num_rows": 1319,
              "truncated_size_bytes": 94968,
              "truncated_string_columns": []
            },
            "display_id": "aa9bf6ce-c469-4c04-a27d-007c957a0824",
            "dx_settings": {
              "ALLOW_NOTEABLE_ATTRS": true,
              "COLUMN_SAMPLING_METHOD": "outer",
              "DB_LOCATION": ":memory:",
              "DEV_MODE": false,
              "DISPLAY_MAX_COLUMNS": 100,
              "DISPLAY_MAX_ROWS": 50000,
              "DISPLAY_MODE": "simple",
              "ENABLE_ASSIGNMENT": true,
              "ENABLE_DATALINK": true,
              "FLATTEN_COLUMN_VALUES": true,
              "FLATTEN_INDEX_VALUES": false,
              "GENERATE_DEX_METADATA": false,
              "HTML_TABLE_SCHEMA": false,
              "LOG_LEVEL": 30,
              "MAX_RENDER_SIZE_BYTES": 104857600,
              "MAX_STRING_LENGTH": 250,
              "NUM_PAST_SAMPLES_TRACKED": 3,
              "RANDOM_STATE": 12648430,
              "RESET_INDEX_VALUES": false,
              "ROW_SAMPLING_METHOD": "random",
              "SAMPLING_FACTOR": 0.1,
              "SAMPLING_METHOD": "random",
              "STRINGIFY_COLUMN_VALUES": true,
              "STRINGIFY_INDEX_VALUES": false
            },
            "sample_history": [],
            "sampling_time": "2023-07-30T20:38:17.605835",
            "user_variable_name": "x",
            "variable_name": "x"
          },
          "b3897165-8a73-4a59-93f8-ab591f6bbc25": {
            "applied_filters": [],
            "dataframe_info": {
              "default_index_used": true,
              "orig_num_cols": 8,
              "orig_num_rows": 1319,
              "orig_size_bytes": 94968,
              "truncated_num_cols": 8,
              "truncated_num_rows": 1319,
              "truncated_size_bytes": 94968,
              "truncated_string_columns": []
            },
            "display_id": "b3897165-8a73-4a59-93f8-ab591f6bbc25",
            "dx_settings": {
              "ALLOW_NOTEABLE_ATTRS": true,
              "COLUMN_SAMPLING_METHOD": "outer",
              "DB_LOCATION": ":memory:",
              "DEV_MODE": false,
              "DISPLAY_MAX_COLUMNS": 100,
              "DISPLAY_MAX_ROWS": 50000,
              "DISPLAY_MODE": "simple",
              "ENABLE_ASSIGNMENT": true,
              "ENABLE_DATALINK": true,
              "FLATTEN_COLUMN_VALUES": true,
              "FLATTEN_INDEX_VALUES": false,
              "GENERATE_DEX_METADATA": false,
              "HTML_TABLE_SCHEMA": false,
              "LOG_LEVEL": 30,
              "MAX_RENDER_SIZE_BYTES": 104857600,
              "MAX_STRING_LENGTH": 250,
              "NUM_PAST_SAMPLES_TRACKED": 3,
              "RANDOM_STATE": 12648430,
              "RESET_INDEX_VALUES": false,
              "ROW_SAMPLING_METHOD": "random",
              "SAMPLING_FACTOR": 0.1,
              "SAMPLING_METHOD": "random",
              "STRINGIFY_COLUMN_VALUES": true,
              "STRINGIFY_INDEX_VALUES": false
            },
            "sample_history": [],
            "sampling_time": "2023-07-30T20:46:10.545897",
            "user_variable_name": "x",
            "variable_name": "x"
          },
          "4b71af13-0d1f-45f7-88ad-e3dbc0782766": {
            "applied_filters": [],
            "dataframe_info": {
              "default_index_used": true,
              "orig_num_cols": 8,
              "orig_num_rows": 1319,
              "orig_size_bytes": 94968,
              "truncated_num_cols": 8,
              "truncated_num_rows": 1319,
              "truncated_size_bytes": 94968,
              "truncated_string_columns": []
            },
            "display_id": "4b71af13-0d1f-45f7-88ad-e3dbc0782766",
            "dx_settings": {
              "ALLOW_NOTEABLE_ATTRS": true,
              "COLUMN_SAMPLING_METHOD": "outer",
              "DB_LOCATION": ":memory:",
              "DEV_MODE": false,
              "DISPLAY_MAX_COLUMNS": 100,
              "DISPLAY_MAX_ROWS": 50000,
              "DISPLAY_MODE": "simple",
              "ENABLE_ASSIGNMENT": true,
              "ENABLE_DATALINK": true,
              "FLATTEN_COLUMN_VALUES": true,
              "FLATTEN_INDEX_VALUES": false,
              "GENERATE_DEX_METADATA": false,
              "HTML_TABLE_SCHEMA": false,
              "LOG_LEVEL": 30,
              "MAX_RENDER_SIZE_BYTES": 104857600,
              "MAX_STRING_LENGTH": 250,
              "NUM_PAST_SAMPLES_TRACKED": 3,
              "RANDOM_STATE": 12648430,
              "RESET_INDEX_VALUES": false,
              "ROW_SAMPLING_METHOD": "random",
              "SAMPLING_FACTOR": 0.1,
              "SAMPLING_METHOD": "random",
              "STRINGIFY_COLUMN_VALUES": true,
              "STRINGIFY_INDEX_VALUES": false
            },
            "sample_history": [],
            "sampling_time": "2023-07-30T20:55:43.585339",
            "user_variable_name": "x",
            "variable_name": "x"
          }
        },
        "dx": {
          "fieldMetadata": {},
          "simpleTable": true,
          "updated": 1690750033940,
          "views": []
        }
      },
      "execution_count": null,
      "outputs": [],
      "id": "5b4e36c3"
    },
    {
      "id": "b973fccc-37fa-46ef-8594-498d3cc33f88",
      "cell_type": "markdown",
      "source": "# Change Categorical values",
      "metadata": {}
    },
    {
      "cell_type": "code",
      "source": "#print(x.head(5))\nimputer = si(missing_values = np.nan, strategy='mean') #imputer to replace nulls with averages\nimputer.fit(x[:,2:4])\nx[:,2:4] = imputer.transform(x[:,2:4]) # replace inplace\nprint(x)\nprint(y)",
      "metadata": {
        "id": "xt2OkimuJt4N",
        "tags": [
          "show_line_numbers"
        ],
        "noteable": {
          "output_collection_id": "8c674e6a-6dee-4cd3-8e90-6f6ebefddcbc"
        },
        "ExecuteTime": {
          "end_time": "2023-07-30T23:43:54.863673+00:00",
          "start_time": "2023-07-30T23:43:54.703543+00:00"
        }
      },
      "execution_count": null,
      "outputs": [],
      "id": "8ab69597"
    },
    {
      "id": "f25e238c-08a1-4aac-b988-57742bc05a9a",
      "cell_type": "code",
      "metadata": {
        "jupyter": {
          "outputs_hidden": false,
          "source_hidden": false
        },
        "noteable": {
          "cell_type": "code",
          "output_collection_id": "d47e22ad-640e-4417-b402-8391d4bf1c34"
        },
        "ExecuteTime": {
          "end_time": "2023-07-30T23:43:18.526213+00:00",
          "start_time": "2023-07-30T23:43:18.366564+00:00"
        }
      },
      "execution_count": null,
      "source": "le = pp.LabelEncoder()\ny = le.fit_transform(y)\nprint(y)\n\nlx = pp.LabelEncoder()\nx[:,1] = lx.fit_transform(x[:,1])\nprint(x)",
      "outputs": []
    },
    {
      "cell_type": "markdown",
      "source": "# Splitting data into Training data and Test data",
      "metadata": {
        "id": "KvdO_ojdJOco",
        "tags": [
          "show_line_numbers"
        ]
      },
      "id": "6740e317"
    },
    {
      "cell_type": "markdown",
      "source": [
        "# Pre processing data"
      ],
      "metadata": {
        "id": "0MD1QvPBJpQO",
        "tags": [
          "show_line_numbers"
        ]
      },
      "id": "7226b0dd"
    },
    {
      "cell_type": "code",
      "source": "x_train, x_test, y_train, y_test = ms.train_test_split(x,y,test_size= 0.2, random_state = 1)\nprint(x_test)\nprint(y_test)",
      "metadata": {
        "id": "-2iR3sarJavt",
        "tags": [
          "show_line_numbers"
        ],
        "noteable": {
          "output_collection_id": "302ec9ec-0a4d-4572-8d89-01fde0179ee8"
        },
        "ExecuteTime": {
          "end_time": "2023-07-30T23:44:04.963778+00:00",
          "start_time": "2023-07-30T23:44:04.803815+00:00"
        }
      },
      "execution_count": null,
      "outputs": [],
      "id": "a43c306d"
    },
    {
      "cell_type": "markdown",
      "source": "# Feature Scaling",
      "metadata": {
        "id": "L_h-2uW_JZrM",
        "tags": [
          "show_line_numbers"
        ]
      },
      "id": "954809da"
    },
    {
      "cell_type": "code",
      "source": "sc = pp.StandardScaler()\nx_train[:,np.array([0,2,3,4,5,6,7])] = sc.fit_transform(x_train[:,np.array([0,2,3,4,5,6,7])]).round(4)  #scale all columns except gender\nx_test[:,np.array([0,2,3,4,5,6,7])] = sc.transform([:,np.array([0,2,3,4,5,6,7])])\nprint(x_train)\nprint(x_test)",
      "metadata": {
        "id": "hHA7wm8_Jh7a",
        "tags": [
          "show_line_numbers"
        ],
        "noteable": {
          "output_collection_id": "1f8447b5-ad76-4430-8715-7d40465c840b"
        },
        "ExecuteTime": {
          "end_time": "2023-07-30T23:47:08.767234+00:00",
          "start_time": "2023-07-30T23:47:08.605182+00:00"
        }
      },
      "execution_count": null,
      "outputs": [],
      "id": "54ac8a48"
    },
    {
      "id": "67a914d3-4e4e-4866-a89e-d84d0d31aaee",
      "cell_type": "code",
      "metadata": {
        "jupyter": {
          "outputs_hidden": false,
          "source_hidden": false
        },
        "noteable": {
          "cell_type": "code"
        }
      },
      "execution_count": null,
      "source": "",
      "outputs": []
    },
    {
      "id": "31354b11-e24d-467f-8752-4b0a19936829",
      "cell_type": "code",
      "metadata": {
        "jupyter": {
          "outputs_hidden": false,
          "source_hidden": false
        },
        "noteable": {
          "cell_type": "code"
        }
      },
      "execution_count": null,
      "source": "",
      "outputs": []
    },
    {
      "id": "5a3498dd-d61b-4af0-9025-d4d9231c1573",
      "cell_type": "code",
      "metadata": {
        "jupyter": {
          "outputs_hidden": false,
          "source_hidden": false
        },
        "noteable": {
          "cell_type": "code"
        }
      },
      "execution_count": null,
      "source": "",
      "outputs": []
    },
    {
      "id": "ad159920-e356-4a44-8eb6-b3d660e748a1",
      "cell_type": "code",
      "metadata": {
        "jupyter": {
          "outputs_hidden": false,
          "source_hidden": false
        },
        "noteable": {
          "cell_type": "code"
        }
      },
      "execution_count": null,
      "source": "",
      "outputs": []
    },
    {
      "id": "265a7ec2-56dc-4a8c-8bf9-c9c1a18d03cf",
      "cell_type": "code",
      "metadata": {
        "jupyter": {
          "outputs_hidden": false,
          "source_hidden": false
        },
        "noteable": {
          "cell_type": "code"
        }
      },
      "execution_count": null,
      "source": "",
      "outputs": []
    },
    {
      "id": "133e5fbf-0db7-427d-9f03-3edf931d361a",
      "cell_type": "code",
      "metadata": {
        "jupyter": {
          "outputs_hidden": false,
          "source_hidden": false
        },
        "noteable": {
          "cell_type": "code"
        }
      },
      "execution_count": null,
      "source": "",
      "outputs": []
    }
  ]
}