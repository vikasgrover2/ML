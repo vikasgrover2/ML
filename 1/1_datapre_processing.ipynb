{
  "nbformat": 4,
  "nbformat_minor": 5,
  "metadata": {
    "colab": {
      "provenance": [],
      "authorship_tag": "ABX9TyND+BrTS/Wo5ymUG+Eb5ruq",
      "include_colab_link": true
    },
    "kernelspec": {
      "display_name": "Python 3.9",
      "language": "python",
      "name": "python3"
    },
    "language_info": {
      "name": "python"
    },
    "noteable": {
      "last_transaction_id": "3fd2516c-009d-4ef6-b645-c572f9c93803"
    },
    "kernel_info": {
      "name": "python3"
    },
    "selected_hardware_size": "small",
    "display_mode": "fullwidth"
  },
  "cells": [
    {
      "cell_type": "markdown",
      "metadata": {
        "id": "view-in-github",
        "colab_type": "text",
        "tags": [
          "show_line_numbers"
        ]
      },
      "source": [
        "<a href=\"https://colab.research.google.com/github/vikasgrover2/ML/blob/main/1/1_datapre_processing.ipynb\" target=\"_parent\"><img src=\"https://colab.research.google.com/assets/colab-badge.svg\" alt=\"Open In Colab\"/></a>"
      ],
      "id": "21dea670"
    },
    {
      "id": "3e32c7ed-0d2a-48f9-9641-d2822436a22f",
      "cell_type": "markdown",
      "source": "kaggle datasets download -d bharath011/heart-disease-classification-dataset\nDataset download from Kaggle\nKey columns are:\n- Age, \n- gender, \n- heart rate (impulse), \n- systolic BP (pressurehight), \n- diastolic BP (pressurelow), \n- blood sugar(glucose), \n- CK-MB (kcm), \n- Test-Troponin (troponin), \n- heart attack (class), \n    - negative refers to the absence of a heart attack, \n    - positive refers to the presence of a heart attack.",
      "metadata": {
        "noteable": {
          "cell_type": "markdown"
        }
      }
    },
    {
      "cell_type": "markdown",
      "source": [
        "# importing libraries"
      ],
      "metadata": {
        "id": "6r83QfUYI5nd",
        "tags": [
          "show_line_numbers"
        ]
      },
      "id": "15c04bae"
    },
    {
      "cell_type": "code",
      "execution_count": null,
      "metadata": {
        "id": "kBS43FTnm23R",
        "noteable": {
          "output_collection_id": null
        },
        "ExecuteTime": {
          "end_time": "2023-07-30T20:04:56.185497+00:00",
          "start_time": "2023-07-30T20:04:56.025522+00:00"
        },
        "tags": [
          "show_line_numbers"
        ]
      },
      "outputs": [],
      "source": "import numpy as np\nimport seaborn as sb\nimport pandas as pd",
      "id": "30b01059"
    },
    {
      "cell_type": "markdown",
      "source": [
        "# importing data"
      ],
      "metadata": {
        "id": "9VjUn-bMJA50",
        "tags": [
          "show_line_numbers"
        ]
      },
      "id": "46e638cd"
    },
    {
      "cell_type": "code",
      "source": "ha_ds =pd.read_csv(\"../datasets/Heart Attack.csv\")\n#print(ha_ds.head(10))\nx = ha_ds.\ny ",
      "metadata": {
        "id": "mXXaw31tJV3h",
        "tags": [
          "show_line_numbers"
        ],
        "noteable": {
          "output_collection_id": "f8932999-e596-429d-b4b3-39a190c1edfe"
        },
        "ExecuteTime": {
          "end_time": "2023-07-30T20:32:33.872947+00:00",
          "start_time": "2023-07-30T20:32:33.706799+00:00"
        },
        "jupyter": {
          "outputs_hidden": false
        }
      },
      "execution_count": null,
      "outputs": [],
      "id": "5b4e36c3"
    },
    {
      "cell_type": "markdown",
      "source": [
        "# Pre processing data"
      ],
      "metadata": {
        "id": "0MD1QvPBJpQO",
        "tags": [
          "show_line_numbers"
        ]
      },
      "id": "7226b0dd"
    },
    {
      "cell_type": "code",
      "source": [],
      "metadata": {
        "id": "xt2OkimuJt4N",
        "tags": [
          "show_line_numbers"
        ]
      },
      "execution_count": null,
      "outputs": [],
      "id": "8ab69597"
    },
    {
      "cell_type": "markdown",
      "source": [
        "# Training data"
      ],
      "metadata": {
        "id": "KvdO_ojdJOco",
        "tags": [
          "show_line_numbers"
        ]
      },
      "id": "6740e317"
    },
    {
      "cell_type": "code",
      "source": [],
      "metadata": {
        "id": "-2iR3sarJavt",
        "tags": [
          "show_line_numbers"
        ]
      },
      "execution_count": null,
      "outputs": [],
      "id": "a43c306d"
    },
    {
      "cell_type": "markdown",
      "source": [
        "# Test data"
      ],
      "metadata": {
        "id": "L_h-2uW_JZrM",
        "tags": [
          "show_line_numbers"
        ]
      },
      "id": "954809da"
    },
    {
      "cell_type": "code",
      "source": [],
      "metadata": {
        "id": "hHA7wm8_Jh7a",
        "tags": [
          "show_line_numbers"
        ]
      },
      "execution_count": null,
      "outputs": [],
      "id": "54ac8a48"
    }
  ]
}