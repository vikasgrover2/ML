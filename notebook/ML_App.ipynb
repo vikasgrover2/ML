{
 "cells": [
  {
   "cell_type": "code",
   "execution_count": 1,
   "id": "e895952b",
   "metadata": {},
   "outputs": [],
   "source": [
    "import psycopg2\n",
    "import psycopg2.pool\n",
    "import psycopg2.extras\n",
    "import os\n",
    "import pandas\n",
    "from pyspark.sql import SparkSession"
   ]
  },
  {
   "cell_type": "code",
   "execution_count": 2,
   "id": "95154c8d",
   "metadata": {},
   "outputs": [],
   "source": [
    "postgres_host = os.environ['POSTGRES_HOST']\n",
    "postgres_username = os.environ['POSTGRES_USER']\n",
    "postgres_password = os.environ['POSTGRES_PASSWORD']\n",
    "postgres_database = os.environ['POSTGRES_DB']\n",
    "postgres_port = os.environ['POSTGRES_HOST_PORT']"
   ]
  },
  {
   "cell_type": "code",
   "execution_count": 3,
   "id": "37a7443c",
   "metadata": {},
   "outputs": [
    {
     "name": "stdout",
     "output_type": "stream",
     "text": [
      "postgres host: localhost\n"
     ]
    }
   ],
   "source": [
    "print(f'postgres host: {postgres_host}')"
   ]
  },
  {
   "cell_type": "code",
   "execution_count": 4,
   "id": "2659c976",
   "metadata": {},
   "outputs": [
    {
     "name": "stdout",
     "output_type": "stream",
     "text": [
      "Postgres Connection Successful\n"
     ]
    },
    {
     "data": {
      "text/plain": [
       "'\\n@app.on_event(\"startup\")\\ndef open_pool():\\n    PgresPool.open()\\n\\n@app.on_event(\"shutdown\")\\ndef close_pool():\\n    PgresPool.close()\\n'"
      ]
     },
     "execution_count": 4,
     "metadata": {},
     "output_type": "execute_result"
    }
   ],
   "source": [
    "#Setup Postgres Pool \n",
    "PgresPool = psycopg2.pool.ThreadedConnectionPool(\n",
    "    minconn = 1, maxconn = 1,host=postgres_host, port=postgres_port, dbname=postgres_database, user=postgres_username, password=postgres_password\n",
    ")\n",
    "print('Postgres Connection Successful')\n",
    "\n",
    "'''\n",
    "@app.on_event(\"startup\")\n",
    "def open_pool():\n",
    "    PgresPool.open()\n",
    "\n",
    "@app.on_event(\"shutdown\")\n",
    "def close_pool():\n",
    "    PgresPool.close()\n",
    "'''"
   ]
  },
  {
   "cell_type": "code",
   "execution_count": 5,
   "id": "f88cba71",
   "metadata": {},
   "outputs": [],
   "source": [
    "spark = SparkSession.builder.appName(\"LoadTable\").getOrCreate()"
   ]
  },
  {
   "cell_type": "code",
   "execution_count": 6,
   "id": "96efe0c3",
   "metadata": {},
   "outputs": [],
   "source": [
    "def create_df_from_csv(csvfilePath):\n",
    "    spark_df =spark.read.csv(csvfilePath, header=True, inferSchema=True)\n",
    "    return spark_df"
   ]
  },
  {
   "cell_type": "code",
   "execution_count": 7,
   "id": "bd0057bd",
   "metadata": {},
   "outputs": [],
   "source": [
    "def load_data(tablename, filename):\n",
    "  postgres_connection  = PgresPool.getconn()  \n",
    "  postgres_cursor = postgres_connection.cursor()\n",
    "  postgres_connection.commit()\n",
    "  postgres_cursor.close()\n",
    "  PgresPool.putconn(postgres_connection)"
   ]
  },
  {
   "cell_type": "code",
   "execution_count": 8,
   "id": "7a419a07",
   "metadata": {},
   "outputs": [
    {
     "name": "stdout",
     "output_type": "stream",
     "text": [
      "[Row(Elevation=2596, Aspect=51, Slope=3, Horizontal_Distance_To_Hydrology=258, Vertical_Distance_To_Hydrology=0, Horizontal_Distance_To_Roadways=510, Hillshade_9am=221, Hillshade_Noon=232, Hillshade_3pm=148, Horizontal_Distance_To_Fire_Points    =6279, Wilderness_Area_1=1, Wilderness_Area_2=0, Wilderness_Area_3=0, Wilderness_Area_4=0, Soil_Type_1=0, Soil_Type_2=0, Soil_Type_3=0, Soil_Type_4=0, Soil_Type_5=0, Soil_Type_6=0, Soil_Type_7=0, Soil_Type_8=0, Soil_Type_9=0, Soil_Type_10=0, Soil_Type_11=0, Soil_Type_12=0, Soil_Type_13=0, Soil_Type_14=0, Soil_Type_15=0, Soil_Type_16=0, Soil_Type_17=0, Soil_Type_18=0, Soil_Type_19=0, Soil_Type_20=0, Soil_Type_21=0, Soil_Type_22=0, Soil_Type_23=0, Soil_Type_24=0, Soil_Type_25=0, Soil_Type_26=0, Soil_Type_27=0, Soil_Type_28=0, Soil_Type_29=1, Soil_Type_30=0, Soil_Type_31=0, Soil_Type_32=0, Soil_Type_33=0, Soil_Type_34=0, Soil_Type_35=0, Soil_Type_36=0, Soil_Type_37=0, Soil_Type_38=0, Soil_Type_39=0, Soil_Type_40=0, Forest_Cover_Type=5), Row(Elevation=2590, Aspect=56, Slope=2, Horizontal_Distance_To_Hydrology=212, Vertical_Distance_To_Hydrology=-6, Horizontal_Distance_To_Roadways=390, Hillshade_9am=220, Hillshade_Noon=235, Hillshade_3pm=151, Horizontal_Distance_To_Fire_Points    =6225, Wilderness_Area_1=1, Wilderness_Area_2=0, Wilderness_Area_3=0, Wilderness_Area_4=0, Soil_Type_1=0, Soil_Type_2=0, Soil_Type_3=0, Soil_Type_4=0, Soil_Type_5=0, Soil_Type_6=0, Soil_Type_7=0, Soil_Type_8=0, Soil_Type_9=0, Soil_Type_10=0, Soil_Type_11=0, Soil_Type_12=0, Soil_Type_13=0, Soil_Type_14=0, Soil_Type_15=0, Soil_Type_16=0, Soil_Type_17=0, Soil_Type_18=0, Soil_Type_19=0, Soil_Type_20=0, Soil_Type_21=0, Soil_Type_22=0, Soil_Type_23=0, Soil_Type_24=0, Soil_Type_25=0, Soil_Type_26=0, Soil_Type_27=0, Soil_Type_28=0, Soil_Type_29=1, Soil_Type_30=0, Soil_Type_31=0, Soil_Type_32=0, Soil_Type_33=0, Soil_Type_34=0, Soil_Type_35=0, Soil_Type_36=0, Soil_Type_37=0, Soil_Type_38=0, Soil_Type_39=0, Soil_Type_40=0, Forest_Cover_Type=5), Row(Elevation=2804, Aspect=139, Slope=9, Horizontal_Distance_To_Hydrology=268, Vertical_Distance_To_Hydrology=65, Horizontal_Distance_To_Roadways=3180, Hillshade_9am=234, Hillshade_Noon=238, Hillshade_3pm=135, Horizontal_Distance_To_Fire_Points    =6121, Wilderness_Area_1=1, Wilderness_Area_2=0, Wilderness_Area_3=0, Wilderness_Area_4=0, Soil_Type_1=0, Soil_Type_2=0, Soil_Type_3=0, Soil_Type_4=0, Soil_Type_5=0, Soil_Type_6=0, Soil_Type_7=0, Soil_Type_8=0, Soil_Type_9=0, Soil_Type_10=0, Soil_Type_11=0, Soil_Type_12=1, Soil_Type_13=0, Soil_Type_14=0, Soil_Type_15=0, Soil_Type_16=0, Soil_Type_17=0, Soil_Type_18=0, Soil_Type_19=0, Soil_Type_20=0, Soil_Type_21=0, Soil_Type_22=0, Soil_Type_23=0, Soil_Type_24=0, Soil_Type_25=0, Soil_Type_26=0, Soil_Type_27=0, Soil_Type_28=0, Soil_Type_29=0, Soil_Type_30=0, Soil_Type_31=0, Soil_Type_32=0, Soil_Type_33=0, Soil_Type_34=0, Soil_Type_35=0, Soil_Type_36=0, Soil_Type_37=0, Soil_Type_38=0, Soil_Type_39=0, Soil_Type_40=0, Forest_Cover_Type=2), Row(Elevation=2785, Aspect=155, Slope=18, Horizontal_Distance_To_Hydrology=242, Vertical_Distance_To_Hydrology=118, Horizontal_Distance_To_Roadways=3090, Hillshade_9am=238, Hillshade_Noon=238, Hillshade_3pm=122, Horizontal_Distance_To_Fire_Points    =6211, Wilderness_Area_1=1, Wilderness_Area_2=0, Wilderness_Area_3=0, Wilderness_Area_4=0, Soil_Type_1=0, Soil_Type_2=0, Soil_Type_3=0, Soil_Type_4=0, Soil_Type_5=0, Soil_Type_6=0, Soil_Type_7=0, Soil_Type_8=0, Soil_Type_9=0, Soil_Type_10=0, Soil_Type_11=0, Soil_Type_12=0, Soil_Type_13=0, Soil_Type_14=0, Soil_Type_15=0, Soil_Type_16=0, Soil_Type_17=0, Soil_Type_18=0, Soil_Type_19=0, Soil_Type_20=0, Soil_Type_21=0, Soil_Type_22=0, Soil_Type_23=0, Soil_Type_24=0, Soil_Type_25=0, Soil_Type_26=0, Soil_Type_27=0, Soil_Type_28=0, Soil_Type_29=0, Soil_Type_30=1, Soil_Type_31=0, Soil_Type_32=0, Soil_Type_33=0, Soil_Type_34=0, Soil_Type_35=0, Soil_Type_36=0, Soil_Type_37=0, Soil_Type_38=0, Soil_Type_39=0, Soil_Type_40=0, Forest_Cover_Type=2), Row(Elevation=2595, Aspect=45, Slope=2, Horizontal_Distance_To_Hydrology=153, Vertical_Distance_To_Hydrology=-1, Horizontal_Distance_To_Roadways=391, Hillshade_9am=220, Hillshade_Noon=234, Hillshade_3pm=150, Horizontal_Distance_To_Fire_Points    =6172, Wilderness_Area_1=1, Wilderness_Area_2=0, Wilderness_Area_3=0, Wilderness_Area_4=0, Soil_Type_1=0, Soil_Type_2=0, Soil_Type_3=0, Soil_Type_4=0, Soil_Type_5=0, Soil_Type_6=0, Soil_Type_7=0, Soil_Type_8=0, Soil_Type_9=0, Soil_Type_10=0, Soil_Type_11=0, Soil_Type_12=0, Soil_Type_13=0, Soil_Type_14=0, Soil_Type_15=0, Soil_Type_16=0, Soil_Type_17=0, Soil_Type_18=0, Soil_Type_19=0, Soil_Type_20=0, Soil_Type_21=0, Soil_Type_22=0, Soil_Type_23=0, Soil_Type_24=0, Soil_Type_25=0, Soil_Type_26=0, Soil_Type_27=0, Soil_Type_28=0, Soil_Type_29=1, Soil_Type_30=0, Soil_Type_31=0, Soil_Type_32=0, Soil_Type_33=0, Soil_Type_34=0, Soil_Type_35=0, Soil_Type_36=0, Soil_Type_37=0, Soil_Type_38=0, Soil_Type_39=0, Soil_Type_40=0, Forest_Cover_Type=5)]\n"
     ]
    }
   ],
   "source": [
    "if __name__ == '__main__':\n",
    "    csvfilePath = \"../import/covtype.csv\"\n",
    "    df =create_df_from_csv(csvfilePath)\n",
    "    PgresPool.closeall()\n",
    "    print(df.head(5))"
   ]
  },
  {
   "cell_type": "code",
   "execution_count": null,
   "id": "83789487",
   "metadata": {},
   "outputs": [],
   "source": []
  }
 ],
 "metadata": {
  "kernelspec": {
   "display_name": "nlp",
   "language": "python",
   "name": "nlp"
  },
  "language_info": {
   "codemirror_mode": {
    "name": "ipython",
    "version": 3
   },
   "file_extension": ".py",
   "mimetype": "text/x-python",
   "name": "python",
   "nbconvert_exporter": "python",
   "pygments_lexer": "ipython3",
   "version": "3.11.5"
  }
 },
 "nbformat": 4,
 "nbformat_minor": 5
}
